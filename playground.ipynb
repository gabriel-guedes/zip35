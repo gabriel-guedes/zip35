{
 "metadata": {
  "language_info": {
   "codemirror_mode": {
    "name": "ipython",
    "version": 3
   },
   "file_extension": ".py",
   "mimetype": "text/x-python",
   "name": "python",
   "nbconvert_exporter": "python",
   "pygments_lexer": "ipython3",
   "version": "3.8.3-final"
  },
  "orig_nbformat": 2,
  "kernelspec": {
   "name": "python3",
   "display_name": "Python 3"
  }
 },
 "nbformat": 4,
 "nbformat_minor": 2,
 "cells": [
  {
   "cell_type": "code",
   "execution_count": 1,
   "metadata": {},
   "outputs": [],
   "source": [
    "import pandas as pd"
   ]
  },
  {
   "cell_type": "code",
   "execution_count": 3,
   "metadata": {},
   "outputs": [
    {
     "output_type": "execute_result",
     "data": {
      "text/plain": [
       "                                                      tickers\n",
       "date                                                         \n",
       "1996-01-02  TMC-200006,AAL-199702,AAMRQ-201312,AAPL,ABI-20...\n",
       "1996-01-03  AAL-199702,AAMRQ-201312,AAPL,ABI-200811,ABS-20...\n",
       "1996-01-04  TMC-200006,AAL-199702,AAMRQ-201312,AAPL,OAT-20...\n",
       "1996-01-10  TMC-200006,AAL-199702,AAMRQ-201312,AAPL,ABI-20...\n",
       "1996-01-11  FLMIQ-200408,FLTWQ-200907,FMC,FMCC,FNMA,FTL.A-...\n",
       "...                                                       ...\n",
       "2019-01-03  A,AAL,AAP,AAPL,ABBV,ABC,ABMD,ABT,ACN,ADBE,ADI,...\n",
       "2019-01-08  A,AAL,AAP,AAPL,ABBV,ABC,ABMD,ABT,ACN,ADBE,ADI,...\n",
       "2019-01-09  KMI,KMX,KO,KR,KSS,KSU,L,LB,LEG,LEN,LH,LKQ,LLL,...\n",
       "2019-01-10  TIF,TJX,TMK,TMO,TPR,TRIP,TROW,TRV,TSCO,TSN,TSS...\n",
       "2019-01-11  JPM,JWN,K,KEY,KEYS,KHC,KIM,KLAC,KMB,KMI,KMX,KO...\n",
       "\n",
       "[2595 rows x 1 columns]"
      ],
      "text/html": "<div>\n<style scoped>\n    .dataframe tbody tr th:only-of-type {\n        vertical-align: middle;\n    }\n\n    .dataframe tbody tr th {\n        vertical-align: top;\n    }\n\n    .dataframe thead th {\n        text-align: right;\n    }\n</style>\n<table border=\"1\" class=\"dataframe\">\n  <thead>\n    <tr style=\"text-align: right;\">\n      <th></th>\n      <th>tickers</th>\n    </tr>\n    <tr>\n      <th>date</th>\n      <th></th>\n    </tr>\n  </thead>\n  <tbody>\n    <tr>\n      <th>1996-01-02</th>\n      <td>TMC-200006,AAL-199702,AAMRQ-201312,AAPL,ABI-20...</td>\n    </tr>\n    <tr>\n      <th>1996-01-03</th>\n      <td>AAL-199702,AAMRQ-201312,AAPL,ABI-200811,ABS-20...</td>\n    </tr>\n    <tr>\n      <th>1996-01-04</th>\n      <td>TMC-200006,AAL-199702,AAMRQ-201312,AAPL,OAT-20...</td>\n    </tr>\n    <tr>\n      <th>1996-01-10</th>\n      <td>TMC-200006,AAL-199702,AAMRQ-201312,AAPL,ABI-20...</td>\n    </tr>\n    <tr>\n      <th>1996-01-11</th>\n      <td>FLMIQ-200408,FLTWQ-200907,FMC,FMCC,FNMA,FTL.A-...</td>\n    </tr>\n    <tr>\n      <th>...</th>\n      <td>...</td>\n    </tr>\n    <tr>\n      <th>2019-01-03</th>\n      <td>A,AAL,AAP,AAPL,ABBV,ABC,ABMD,ABT,ACN,ADBE,ADI,...</td>\n    </tr>\n    <tr>\n      <th>2019-01-08</th>\n      <td>A,AAL,AAP,AAPL,ABBV,ABC,ABMD,ABT,ACN,ADBE,ADI,...</td>\n    </tr>\n    <tr>\n      <th>2019-01-09</th>\n      <td>KMI,KMX,KO,KR,KSS,KSU,L,LB,LEG,LEN,LH,LKQ,LLL,...</td>\n    </tr>\n    <tr>\n      <th>2019-01-10</th>\n      <td>TIF,TJX,TMK,TMO,TPR,TRIP,TROW,TRV,TSCO,TSN,TSS...</td>\n    </tr>\n    <tr>\n      <th>2019-01-11</th>\n      <td>JPM,JWN,K,KEY,KEYS,KHC,KIM,KLAC,KMB,KMI,KMX,KO...</td>\n    </tr>\n  </tbody>\n</table>\n<p>2595 rows × 1 columns</p>\n</div>"
     },
     "metadata": {},
     "execution_count": 3
    }
   ],
   "source": [
    "members = pd.read_csv('./data/sp500_members.csv', index_col=0, parse_dates=[0])\n",
    "members"
   ]
  },
  {
   "cell_type": "code",
   "execution_count": 6,
   "metadata": {},
   "outputs": [
    {
     "output_type": "execute_result",
     "data": {
      "text/plain": [
       "                                                      tickers\n",
       "date                                                         \n",
       "1996-01-02  TMC-200006,AAL-199702,AAMRQ-201312,AAPL,ABI-20...\n",
       "1996-01-03  AAL-199702,AAMRQ-201312,AAPL,ABI-200811,ABS-20...\n",
       "1996-01-04  TMC-200006,AAL-199702,AAMRQ-201312,AAPL,OAT-20...\n",
       "1996-01-10  TMC-200006,AAL-199702,AAMRQ-201312,AAPL,ABI-20...\n",
       "1996-01-11  FLMIQ-200408,FLTWQ-200907,FMC,FMCC,FNMA,FTL.A-...\n",
       "...                                                       ...\n",
       "2000-12-14  A,AABA,AAMRQ-201312,AAPL,ABI-200811,ABKFQ-2013...\n",
       "2000-12-15  MWV-201507,MXIM,MYG-200603,NAV,NBR,NCC-200812,...\n",
       "2000-12-18  VTSS-201504,VZ,WAMUQ-201203,WB-200108,WB-20081...\n",
       "2000-12-22  A,AABA,AAMRQ-201312,AAPL,ABI-200811,ABKFQ-2013...\n",
       "2000-12-29  A,AABA,AAMRQ-201312,AAPL,ABI-200811,ABKFQ-2013...\n",
       "\n",
       "[612 rows x 1 columns]"
      ],
      "text/html": "<div>\n<style scoped>\n    .dataframe tbody tr th:only-of-type {\n        vertical-align: middle;\n    }\n\n    .dataframe tbody tr th {\n        vertical-align: top;\n    }\n\n    .dataframe thead th {\n        text-align: right;\n    }\n</style>\n<table border=\"1\" class=\"dataframe\">\n  <thead>\n    <tr style=\"text-align: right;\">\n      <th></th>\n      <th>tickers</th>\n    </tr>\n    <tr>\n      <th>date</th>\n      <th></th>\n    </tr>\n  </thead>\n  <tbody>\n    <tr>\n      <th>1996-01-02</th>\n      <td>TMC-200006,AAL-199702,AAMRQ-201312,AAPL,ABI-20...</td>\n    </tr>\n    <tr>\n      <th>1996-01-03</th>\n      <td>AAL-199702,AAMRQ-201312,AAPL,ABI-200811,ABS-20...</td>\n    </tr>\n    <tr>\n      <th>1996-01-04</th>\n      <td>TMC-200006,AAL-199702,AAMRQ-201312,AAPL,OAT-20...</td>\n    </tr>\n    <tr>\n      <th>1996-01-10</th>\n      <td>TMC-200006,AAL-199702,AAMRQ-201312,AAPL,ABI-20...</td>\n    </tr>\n    <tr>\n      <th>1996-01-11</th>\n      <td>FLMIQ-200408,FLTWQ-200907,FMC,FMCC,FNMA,FTL.A-...</td>\n    </tr>\n    <tr>\n      <th>...</th>\n      <td>...</td>\n    </tr>\n    <tr>\n      <th>2000-12-14</th>\n      <td>A,AABA,AAMRQ-201312,AAPL,ABI-200811,ABKFQ-2013...</td>\n    </tr>\n    <tr>\n      <th>2000-12-15</th>\n      <td>MWV-201507,MXIM,MYG-200603,NAV,NBR,NCC-200812,...</td>\n    </tr>\n    <tr>\n      <th>2000-12-18</th>\n      <td>VTSS-201504,VZ,WAMUQ-201203,WB-200108,WB-20081...</td>\n    </tr>\n    <tr>\n      <th>2000-12-22</th>\n      <td>A,AABA,AAMRQ-201312,AAPL,ABI-200811,ABKFQ-2013...</td>\n    </tr>\n    <tr>\n      <th>2000-12-29</th>\n      <td>A,AABA,AAMRQ-201312,AAPL,ABI-200811,ABKFQ-2013...</td>\n    </tr>\n  </tbody>\n</table>\n<p>612 rows × 1 columns</p>\n</div>"
     },
     "metadata": {},
     "execution_count": 6
    }
   ],
   "source": [
    "random_day = pd.Timestamp('2001-01-01')\n",
    "\n",
    "all_prior = members[members.index < random_day]\n",
    "all_prior"
   ]
  }
 ]
}