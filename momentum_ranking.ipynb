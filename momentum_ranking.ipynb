{
 "metadata": {
  "language_info": {
   "codemirror_mode": {
    "name": "ipython",
    "version": 3
   },
   "file_extension": ".py",
   "mimetype": "text/x-python",
   "name": "python",
   "nbconvert_exporter": "python",
   "pygments_lexer": "ipython3",
   "version": "3.5.6-final"
  },
  "orig_nbformat": 2,
  "kernelspec": {
   "name": "python3",
   "display_name": "Python 3"
  }
 },
 "nbformat": 4,
 "nbformat_minor": 2,
 "cells": [
  {
   "source": [
    "%matplotlib inline\n",
    "from scipy import stats\n",
    "import numpy as np \n",
    "import pandas as pd\n",
    "import matplotlib.pyplot as plt\n",
    "import zipline\n",
    "from zipline.api import symbol, order_target_percent, set_commission, set_slippage, schedule_function, time_rules, date_rules\n",
    "from zipline.finance.commission import PerDollar\n",
    "from zipline.finance.slippage import VolumeShareSlippage, FixedSlippage\n",
    "import pyfolio as pf"
   ],
   "cell_type": "code",
   "metadata": {},
   "execution_count": null,
   "outputs": []
  },
  {
   "cell_type": "code",
   "execution_count": null,
   "metadata": {},
   "outputs": [],
   "source": [
    "# Model Settings\n",
    "initial_portfolio = 100000\n",
    "momentum_window = 125\n",
    "minimum_momentum = 40\n",
    "portfolio_size = 30\n",
    "vola_window = 20\n",
    "\n",
    "# Comission and Slippage Settings\n",
    "enable_commission = True\n",
    "commission_pct = 0.001\n",
    "enable_slippage = True\n",
    "slippage_volume_limit = 0.025\n",
    "slippage_impact = 0.05"
   ]
  },
  {
   "cell_type": "code",
   "execution_count": null,
   "metadata": {},
   "outputs": [],
   "source": [
    "# Momentum Score Function\n",
    "def momentum_score(ts: pd.Series):\n",
    "    \"\"\"\n",
    "    Input: price time series\n",
    "    Output: Annualized exponential regression slope multiplied by the R2\n",
    "    \"\"\"\n",
    "\n",
    "    # Make a list of consecutive numbers\n",
    "    x = np.arange(len(ts))\n",
    "\n",
    "    # Get logs\n",
    "    log_ts = np.log(ts)\n",
    "\n",
    "    # Calculate regression values\n",
    "    slope, intercept, r_value, p_value, std_err = stats.linregress(x, log_ts)\n",
    "\n",
    "    # Annualize percent\n",
    "    annualized_slope = (np.power(np.exp(slope), 252) -1) * 100\n",
    "\n",
    "    # Adjust for fitness\n",
    "    score = annualized_slope * (r_value ** 2)\n",
    "    \n",
    "    return score"
   ]
  },
  {
   "cell_type": "code",
   "execution_count": null,
   "metadata": {},
   "outputs": [],
   "source": [
    "# Volatility Function\n",
    "def volatility(ts: pd.Series):\n",
    "    return ts.pct_change().rolling(vola_window).std().iloc[-1]"
   ]
  },
  {
   "cell_type": "code",
   "execution_count": null,
   "metadata": {},
   "outputs": [],
   "source": [
    "# Output progress function\n",
    "def output_progress(context):\n",
    "    \"\"\"\n",
    "    Output some performance numbers during backtest run.\n",
    "    This code just prints out the past month's performance \n",
    "    so that we have something to look at while the backtest runs.\n",
    "    \"\"\"\n",
    "\n",
    "    # Get today's date\n",
    "    today = zipline.api.get_datetime().date()\n",
    "\n",
    "    # Calculate percent difference since last month\n",
    "    perf_pct = (context.portfolio.portfolio_value / context.last_month) - 1\n",
    "\n",
    "    # Print performance, format as percent with 2 decimals\n",
    "    print('{} - Last Month Result: {:.2%}'.format(today, perf_pct))\n",
    "\n",
    "    # Remember today's portfolio value for next month's calculation\n",
    "    context.last_month = context.portfolio.portfolio_value"
   ]
  },
  {
   "cell_type": "code",
   "execution_count": null,
   "metadata": {},
   "outputs": [],
   "source": [
    "def initialize(context):\n",
    "    # Set comission and slippage\n",
    "    if enable_commission:\n",
    "        comm_model = PerDollar(cost=commission_pct)\n",
    "    else:\n",
    "        comm_model = PerDollar(cost=0.0)\n",
    "    \n",
    "    set_commission(comm_model)"
   ]
  }
 ]
}